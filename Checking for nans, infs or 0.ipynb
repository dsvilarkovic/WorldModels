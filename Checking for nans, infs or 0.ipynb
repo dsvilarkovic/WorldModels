{
 "cells": [
  {
   "cell_type": "code",
   "execution_count": 15,
   "metadata": {},
   "outputs": [],
   "source": [
    "import numpy as np\n",
    "import os"
   ]
  },
  {
   "cell_type": "code",
   "execution_count": 20,
   "metadata": {},
   "outputs": [],
   "source": [
    "SERIES_DIR_NAME = './WorldModels/data/series/'"
   ]
  },
  {
   "cell_type": "code",
   "execution_count": 2,
   "metadata": {},
   "outputs": [],
   "source": [
    "data = np.load('WorldModels/data/series/694147997.npz')"
   ]
  },
  {
   "cell_type": "code",
   "execution_count": 3,
   "metadata": {},
   "outputs": [
    {
     "name": "stdout",
     "output_type": "stream",
     "text": [
      "muS\n",
      "log_varS\n",
      "muB\n",
      "log_varB\n",
      "action\n",
      "reward\n",
      "done\n"
     ]
    }
   ],
   "source": [
    "for key in data.keys():\n",
    "    print(key)"
   ]
  },
  {
   "cell_type": "markdown",
   "metadata": {},
   "source": [
    "## Checking if there are any [0 inf nans] in variance, and any [inf nans] in mu"
   ]
  },
  {
   "cell_type": "code",
   "execution_count": 35,
   "metadata": {},
   "outputs": [
    {
     "name": "stdout",
     "output_type": "stream",
     "text": [
      "1549\n"
     ]
    }
   ],
   "source": [
    "file_size = 0\n",
    "for root, dirs, files in os.walk(SERIES_DIR_NAME):\n",
    "    for filename in files:\n",
    "#         print(filename)\n",
    "        file_size = file_size +1\n",
    "        \n",
    "print(file_size)"
   ]
  },
  {
   "cell_type": "code",
   "execution_count": 21,
   "metadata": {},
   "outputs": [],
   "source": [
    "def get_filelist(N):\n",
    "    filelist = os.listdir(SERIES_DIR_NAME)\n",
    "    filelist = [x for x in filelist if x != '.DS_Store']\n",
    "    filelist.sort()\n",
    "    length_filelist = len(filelist)\n",
    "\n",
    "    if length_filelist > N:\n",
    "      filelist = filelist[:N]\n",
    "\n",
    "    if length_filelist < N:\n",
    "      N = length_filelist\n",
    "\n",
    "    return filelist, N"
   ]
  },
  {
   "cell_type": "code",
   "execution_count": 36,
   "metadata": {},
   "outputs": [],
   "source": [
    "filelist, N = get_filelist(file_size)"
   ]
  },
  {
   "cell_type": "code",
   "execution_count": 69,
   "metadata": {},
   "outputs": [],
   "source": [
    "indices = np.random.permutation(N)\n",
    "\n",
    "z_listS = []\n",
    "z_listB = []\n",
    "muS_list =[]\n",
    "muB_list =[]\n",
    "log_varS_list = []\n",
    "log_varB_list = []\n",
    "\n",
    "for i in indices:\n",
    "    new_data = np.load(SERIES_DIR_NAME + filelist[i])\n",
    "\n",
    "    muS = new_data['muS']\n",
    "    log_varS = new_data['log_varS']\n",
    "    muB = new_data['muB']\n",
    "    log_varB = new_data['log_varB']\n",
    "\n",
    "    s = log_varS.shape\n",
    "\n",
    "    zS = muS + np.exp(log_varS/2.0) * np.random.randn(*s)\n",
    "    zB = muB + np.exp(log_varB/2.0) * np.random.randn(*s)\n",
    "#     print('{} {} {} {}'.format(np.sum(np.isnan(muS)), np.sum(np.isnan(log_varS)),np.sum(np.isnan(muB)) ,np.sum(np.isnan(log_varB))))\n",
    "#     print('{} {}'.format(log_varS, log_varB))\n",
    "\n",
    "    z_listS.append(zS)\n",
    "    z_listB.append(zB)\n",
    "    muS_list.append(muS)\n",
    "    muB_list.append(muB)\n",
    "    log_varS_list.append(log_varS)\n",
    "    log_varB_list.append(log_varB)\n",
    "    \n",
    "    \n",
    "z_listS = np.array(z_listS)\n",
    "z_listB = np.array(z_listB)\n",
    "muS_list = np.array(muS_list)\n",
    "muB_list = np.array(muB_list)\n",
    "log_varS_list = np.array(log_varS_list)\n",
    "log_varB_list = np.array(log_varB_list)"
   ]
  },
  {
   "cell_type": "markdown",
   "metadata": {},
   "source": [
    "## Check for nans or infs in all of those lists"
   ]
  },
  {
   "cell_type": "code",
   "execution_count": 70,
   "metadata": {},
   "outputs": [
    {
     "data": {
      "text/plain": [
       "nan"
      ]
     },
     "execution_count": 70,
     "metadata": {},
     "output_type": "execute_result"
    }
   ],
   "source": [
    "np.nan + 10"
   ]
  },
  {
   "cell_type": "code",
   "execution_count": 71,
   "metadata": {},
   "outputs": [
    {
     "data": {
      "text/plain": [
       "inf"
      ]
     },
     "execution_count": 71,
     "metadata": {},
     "output_type": "execute_result"
    }
   ],
   "source": [
    "np.inf + 10"
   ]
  },
  {
   "cell_type": "code",
   "execution_count": 72,
   "metadata": {},
   "outputs": [
    {
     "name": "stdout",
     "output_type": "stream",
     "text": [
      "-257901610.218\n",
      "316853096418.0\n",
      "-2.66364e+08\n",
      "-4.13582e+08\n",
      "-1.66014e+06\n",
      "1.62345e+07\n"
     ]
    }
   ],
   "source": [
    "print(np.sum(np.sum(z_listS)))\n",
    "print(np.sum(np.sum(z_listB)))\n",
    "print(np.sum(np.sum(muS_list)))\n",
    "print(np.sum(np.sum(muB_list)))\n",
    "print(np.sum(np.sum(log_varS_list)))\n",
    "print(np.sum(np.sum(log_varB_list)))"
   ]
  },
  {
   "cell_type": "markdown",
   "metadata": {},
   "source": [
    "## Check if there is zero in both log_variance lists"
   ]
  },
  {
   "cell_type": "code",
   "execution_count": 147,
   "metadata": {},
   "outputs": [
    {
     "data": {
      "text/plain": [
       "3"
      ]
     },
     "execution_count": 147,
     "metadata": {},
     "output_type": "execute_result"
    }
   ],
   "source": [
    "np.sum(np.abs(log_varS) <= 10e-3)"
   ]
  },
  {
   "cell_type": "code",
   "execution_count": 90,
   "metadata": {},
   "outputs": [],
   "source": [
    "k = 0\n",
    "for i in indices:\n",
    "    for j in range(300):\n",
    "        for k in range(32):\n",
    "            if(np.abs(log_varS_list[i, j, 0, k ]) <= 1e-10):\n",
    "                print(log_varS_list[i, j, 0, k ])\n",
    "                k = k + 1\n",
    "#         muS_list\n",
    "#         muB_list"
   ]
  },
  {
   "cell_type": "code",
   "execution_count": 110,
   "metadata": {},
   "outputs": [],
   "source": [
    "tol_list = [1e-1,1e-2,1e-3,1e-4,1e-5, 1e-6, 1e-7, 1e-8, 1e-9]"
   ]
  },
  {
   "cell_type": "code",
   "execution_count": 112,
   "metadata": {},
   "outputs": [
    {
     "name": "stdout",
     "output_type": "stream",
     "text": [
      "________________________\n",
      "0.1\n",
      "1.14503308586\n",
      "0.513651280396\n",
      "________________________\n",
      "________________________\n",
      "0.01\n",
      "0.115941736604\n",
      "0.0508325263611\n",
      "________________________\n",
      "________________________\n",
      "0.001\n",
      "0.0111227673768\n",
      "0.00498305358296\n",
      "________________________\n",
      "________________________\n",
      "0.0001\n",
      "0.000961641919518\n",
      "0.000484183344093\n",
      "________________________\n",
      "________________________\n",
      "1e-05\n",
      "6.72476866796e-05\n",
      "3.36238433398e-05\n",
      "________________________\n",
      "________________________\n",
      "1e-06\n",
      "6.72476866796e-06\n",
      "0.0\n",
      "________________________\n",
      "________________________\n",
      "1e-07\n",
      "0.0\n",
      "0.0\n",
      "________________________\n",
      "________________________\n",
      "1e-08\n",
      "0.0\n",
      "0.0\n",
      "________________________\n",
      "________________________\n",
      "1e-09\n",
      "0.0\n",
      "0.0\n",
      "________________________\n"
     ]
    }
   ],
   "source": [
    "for tol in tol_list:\n",
    "    print('_' * 24)\n",
    "    print(tol)\n",
    "    print(np.sum(np.abs(log_varS_list) <= tol) / log_varS_list.size * 100.0)\n",
    "    print(np.sum(np.abs(log_varB_list) <= tol) / log_varB_list.size * 100.0)\n",
    "    print('_' * 24)\n"
   ]
  },
  {
   "cell_type": "markdown",
   "metadata": {},
   "source": [
    "## Check if there is zero in zS and zB"
   ]
  },
  {
   "cell_type": "code",
   "execution_count": 113,
   "metadata": {},
   "outputs": [
    {
     "name": "stdout",
     "output_type": "stream",
     "text": [
      "________________________\n",
      "0.1\n",
      "0.0315458898214\n",
      "0.0315458898214\n",
      "________________________\n",
      "________________________\n",
      "0.01\n",
      "0.00315391650527\n",
      "0.00315391650527\n",
      "________________________\n",
      "________________________\n",
      "0.001\n",
      "0.000248816440714\n",
      "0.000248816440714\n",
      "________________________\n",
      "________________________\n",
      "0.0001\n",
      "1.34495373359e-05\n",
      "1.34495373359e-05\n",
      "________________________\n",
      "________________________\n",
      "1e-05\n",
      "0.0\n",
      "0.0\n",
      "________________________\n",
      "________________________\n",
      "1e-06\n",
      "0.0\n",
      "0.0\n",
      "________________________\n",
      "________________________\n",
      "1e-07\n",
      "0.0\n",
      "0.0\n",
      "________________________\n",
      "________________________\n",
      "1e-08\n",
      "0.0\n",
      "0.0\n",
      "________________________\n",
      "________________________\n",
      "1e-09\n",
      "0.0\n",
      "0.0\n",
      "________________________\n"
     ]
    }
   ],
   "source": [
    "for tol in tol_list:\n",
    "    print('_' * 24)\n",
    "    print(tol)\n",
    "    print(np.sum(np.abs(z_listS) <= tol) / log_varS_list.size * 100)\n",
    "    print(np.sum(np.abs(z_listS) <= tol) / log_varB_list.size * 100)\n",
    "    print('_' * 24)\n"
   ]
  },
  {
   "cell_type": "markdown",
   "metadata": {},
   "source": [
    "## Finally, the code for skipping on samples in indices "
   ]
  },
  {
   "cell_type": "code",
   "execution_count": 114,
   "metadata": {},
   "outputs": [],
   "source": [
    "indices = np.random.permutation(N)\n",
    "\n",
    "z_listS = []\n",
    "z_listB = []\n",
    "muS_list =[]\n",
    "muB_list =[]\n",
    "log_varS_list = []\n",
    "log_varB_list = []\n",
    "\n",
    "for i in indices:\n",
    "    new_data = np.load(SERIES_DIR_NAME + filelist[i])\n",
    "\n",
    "    muS = new_data['muS']\n",
    "    log_varS = new_data['log_varS']\n",
    "    muB = new_data['muB']\n",
    "    log_varB = new_data['log_varB']\n",
    "\n",
    "    s = log_varS.shape\n",
    "\n",
    "    zS = muS + np.exp(log_varS/2.0) * np.random.randn(*s)\n",
    "    zB = muB + np.exp(log_varB/2.0) * np.random.randn(*s)\n",
    "    \n",
    "    \n",
    "\n",
    "    z_listS.append(zS)\n",
    "    z_listB.append(zB)\n",
    "    muS_list.append(muS)\n",
    "    muB_list.append(muB)\n",
    "    log_varS_list.append(log_varS)\n",
    "    log_varB_list.append(log_varB)\n",
    "    \n",
    "z_listS = np.array(z_listS)\n",
    "z_listB = np.array(z_listB)\n",
    "muS_list = np.array(muS_list)\n",
    "muB_list = np.array(muB_list)\n",
    "log_varS_list = np.array(log_varS_list)\n",
    "log_varB_list = np.array(log_varB_list)"
   ]
  },
  {
   "cell_type": "code",
   "execution_count": 109,
   "metadata": {},
   "outputs": [
    {
     "data": {
      "text/plain": [
       "(300, 1, 32)"
      ]
     },
     "execution_count": 109,
     "metadata": {},
     "output_type": "execute_result"
    }
   ],
   "source": [
    "log_varS.shape"
   ]
  },
  {
   "cell_type": "code",
   "execution_count": 132,
   "metadata": {},
   "outputs": [],
   "source": [
    "found_indicesS = (np.sum(abs(log_varS) <= 5e-2, axis = 2))[:,0]"
   ]
  },
  {
   "cell_type": "code",
   "execution_count": 133,
   "metadata": {},
   "outputs": [],
   "source": [
    "found_indicesB = (np.sum(abs(log_varB) <= 5e-2, axis = 2))[:,0]"
   ]
  },
  {
   "cell_type": "code",
   "execution_count": 140,
   "metadata": {},
   "outputs": [
    {
     "data": {
      "text/plain": [
       "array([1, 0, 1, 1, 0, 0, 0, 0, 0, 0, 0, 0, 0, 0, 0, 0, 0, 0, 0, 0, 0, 0, 0,\n",
       "       0, 0, 0, 0, 0, 0, 1, 1, 0, 0, 1, 1, 1, 1, 1, 1, 1, 1, 1, 1, 1, 1, 1,\n",
       "       0, 0, 1, 1, 0, 1, 0, 0, 0, 0, 0, 0, 0, 0, 0, 0, 0, 0, 0, 0, 1, 1, 1,\n",
       "       1, 2, 1, 1, 0, 0, 0, 1, 1, 1, 1, 1, 0, 1, 0, 0, 0, 0, 0, 1, 0, 0, 0,\n",
       "       0, 0, 0, 0, 0, 0, 0, 0, 0, 1, 0, 0, 0, 0, 0, 0, 0, 0, 0, 0, 0, 0, 0,\n",
       "       0, 1, 0, 0, 0, 0, 0, 0, 0, 0, 0, 0, 0, 0, 0, 0, 0, 0, 0, 0, 0, 0, 0,\n",
       "       0, 0, 0, 0, 0, 0, 0, 0, 1, 1, 2, 0, 0, 0, 0, 0, 0, 0, 0, 0, 1, 1, 0,\n",
       "       0, 0, 0, 0, 0, 0, 0, 0, 0, 0, 0, 0, 0, 0, 0, 0, 0, 0, 0, 0, 0, 0, 0,\n",
       "       0, 1, 0, 0, 0, 0, 0, 0, 0, 0, 0, 0, 0, 0, 0, 0, 0, 0, 0, 0, 0, 0, 0,\n",
       "       0, 0, 0, 0, 0, 0, 0, 0, 0, 0, 0, 0, 0, 0, 0, 0, 0, 0, 0, 0, 0, 0, 0,\n",
       "       0, 0, 0, 0, 0, 0, 0, 0, 0, 0, 0, 0, 0, 0, 0, 0, 0, 0, 0, 0, 0, 0, 0,\n",
       "       0, 0, 0, 0, 0, 0, 0, 0, 0, 0, 0, 0, 0, 0, 0, 0, 0, 0, 1, 1, 0, 0, 0,\n",
       "       0, 1, 0, 0, 0, 0, 0, 0, 0, 1, 1, 0, 0, 1, 0, 0, 0, 0, 0, 0, 0, 0, 0,\n",
       "       0])"
      ]
     },
     "execution_count": 140,
     "metadata": {},
     "output_type": "execute_result"
    }
   ],
   "source": [
    "found_indicesS + found_indicesB"
   ]
  },
  {
   "cell_type": "code",
   "execution_count": 139,
   "metadata": {},
   "outputs": [
    {
     "data": {
      "text/plain": [
       "(282, 1, 32)"
      ]
     },
     "execution_count": 139,
     "metadata": {},
     "output_type": "execute_result"
    }
   ],
   "source": [
    "log_varS[found_indices == 0, :, :].shape"
   ]
  },
  {
   "cell_type": "code",
   "execution_count": null,
   "metadata": {},
   "outputs": [],
   "source": []
  },
  {
   "cell_type": "code",
   "execution_count": 81,
   "metadata": {},
   "outputs": [
    {
     "data": {
      "text/plain": [
       "(300, 32)"
      ]
     },
     "execution_count": 81,
     "metadata": {},
     "output_type": "execute_result"
    }
   ],
   "source": [
    "muS_list[0,:,0,:].shape"
   ]
  },
  {
   "cell_type": "markdown",
   "metadata": {},
   "source": [
    "## Ignore this "
   ]
  },
  {
   "cell_type": "code",
   "execution_count": 86,
   "metadata": {},
   "outputs": [
    {
     "data": {
      "text/plain": [
       "0.01"
      ]
     },
     "execution_count": 86,
     "metadata": {},
     "output_type": "execute_result"
    }
   ],
   "source": [
    "10e-3"
   ]
  },
  {
   "cell_type": "code",
   "execution_count": 141,
   "metadata": {},
   "outputs": [
    {
     "data": {
      "text/plain": [
       "(300, 1, 32)"
      ]
     },
     "execution_count": 141,
     "metadata": {},
     "output_type": "execute_result"
    }
   ],
   "source": [
    "zS.shape"
   ]
  },
  {
   "cell_type": "code",
   "execution_count": 59,
   "metadata": {},
   "outputs": [
    {
     "data": {
      "text/plain": [
       "nan"
      ]
     },
     "execution_count": 59,
     "metadata": {},
     "output_type": "execute_result"
    }
   ],
   "source": [
    "np.nan + 10"
   ]
  },
  {
   "cell_type": "code",
   "execution_count": 10,
   "metadata": {},
   "outputs": [
    {
     "data": {
      "text/plain": [
       "0"
      ]
     },
     "execution_count": 10,
     "metadata": {},
     "output_type": "execute_result"
    }
   ],
   "source": [
    "np.sum(np.isnan(data['log_varB']))"
   ]
  },
  {
   "cell_type": "code",
   "execution_count": 34,
   "metadata": {},
   "outputs": [
    {
     "data": {
      "text/plain": [
       "(300, 1, 32)"
      ]
     },
     "execution_count": 34,
     "metadata": {},
     "output_type": "execute_result"
    }
   ],
   "source": [
    "data['muS'].shape"
   ]
  },
  {
   "cell_type": "code",
   "execution_count": 35,
   "metadata": {},
   "outputs": [
    {
     "data": {
      "text/plain": [
       "(300, 1, 32)"
      ]
     },
     "execution_count": 35,
     "metadata": {},
     "output_type": "execute_result"
    }
   ],
   "source": [
    "data['log_varS'].shape"
   ]
  },
  {
   "cell_type": "code",
   "execution_count": 36,
   "metadata": {},
   "outputs": [
    {
     "data": {
      "text/plain": [
       "(300, 1, 32)"
      ]
     },
     "execution_count": 36,
     "metadata": {},
     "output_type": "execute_result"
    }
   ],
   "source": [
    "data['muB'].shape"
   ]
  },
  {
   "cell_type": "code",
   "execution_count": 37,
   "metadata": {},
   "outputs": [
    {
     "data": {
      "text/plain": [
       "(300, 1, 32)"
      ]
     },
     "execution_count": 37,
     "metadata": {},
     "output_type": "execute_result"
    }
   ],
   "source": [
    "data['log_varB'].shape"
   ]
  },
  {
   "cell_type": "code",
   "execution_count": 38,
   "metadata": {},
   "outputs": [
    {
     "data": {
      "text/plain": [
       "(300, 3)"
      ]
     },
     "execution_count": 38,
     "metadata": {},
     "output_type": "execute_result"
    }
   ],
   "source": [
    "data['action'].shape"
   ]
  },
  {
   "cell_type": "code",
   "execution_count": 39,
   "metadata": {},
   "outputs": [
    {
     "data": {
      "text/plain": [
       "array([-0.0397011 ,  0.8833212 ,  0.69708145], dtype=float32)"
      ]
     },
     "execution_count": 39,
     "metadata": {},
     "output_type": "execute_result"
    }
   ],
   "source": [
    "data['action'][0]"
   ]
  },
  {
   "cell_type": "code",
   "execution_count": 40,
   "metadata": {},
   "outputs": [
    {
     "data": {
      "text/plain": [
       "(300,)"
      ]
     },
     "execution_count": 40,
     "metadata": {},
     "output_type": "execute_result"
    }
   ],
   "source": [
    "data['reward'].shape"
   ]
  },
  {
   "cell_type": "code",
   "execution_count": 41,
   "metadata": {},
   "outputs": [
    {
     "data": {
      "text/plain": [
       "(300,)"
      ]
     },
     "execution_count": 41,
     "metadata": {},
     "output_type": "execute_result"
    }
   ],
   "source": [
    "data['done'].shape"
   ]
  },
  {
   "cell_type": "code",
   "execution_count": 42,
   "metadata": {},
   "outputs": [
    {
     "data": {
      "text/plain": [
       "array([0, 0, 0, 0, 0, 0, 0, 0, 0, 0, 0, 0, 0, 0, 0, 0, 0, 0, 0, 0, 0, 0,\n",
       "       0, 0, 0, 0, 0, 0, 0, 0, 0, 0, 0, 0, 0, 0, 0, 0, 0, 0, 0, 0, 0, 0,\n",
       "       0, 0, 0, 0, 0, 0, 0, 0, 0, 0, 0, 0, 0, 0, 0, 0, 0, 0, 0, 0, 0, 0,\n",
       "       0, 0, 0, 0, 0, 0, 0, 0, 0, 0, 0, 0, 0, 0, 0, 0, 0, 0, 0, 0, 0, 0,\n",
       "       0, 0, 0, 0, 0, 0, 0, 0, 0, 0, 0, 0, 0, 0, 0, 0, 0, 0, 0, 0, 0, 0,\n",
       "       0, 0, 0, 0, 0, 0, 0, 0, 0, 0, 0, 0, 0, 0, 0, 0, 0, 0, 0, 0, 0, 0,\n",
       "       0, 0, 0, 0, 0, 0, 0, 0, 0, 0, 0, 0, 0, 0, 0, 0, 0, 0, 0, 0, 0, 0,\n",
       "       0, 0, 0, 0, 0, 0, 0, 0, 0, 0, 0, 0, 0, 0, 0, 0, 0, 0, 0, 0, 0, 0,\n",
       "       0, 0, 0, 0, 0, 0, 0, 0, 0, 0, 0, 0, 0, 0, 0, 0, 0, 0, 0, 0, 0, 0,\n",
       "       0, 0, 0, 0, 0, 0, 0, 0, 0, 0, 0, 0, 0, 0, 0, 0, 0, 0, 0, 0, 0, 0,\n",
       "       0, 0, 0, 0, 0, 0, 0, 0, 0, 0, 0, 0, 0, 0, 0, 0, 0, 0, 0, 0, 0, 0,\n",
       "       0, 0, 0, 0, 0, 0, 0, 0, 0, 0, 0, 0, 0, 0, 0, 0, 0, 0, 0, 0, 0, 0,\n",
       "       0, 0, 0, 0, 0, 0, 0, 0, 0, 0, 0, 0, 0, 0, 0, 0, 0, 0, 0, 0, 0, 0,\n",
       "       0, 0, 0, 0, 0, 0, 0, 0, 0, 0, 0, 0, 0, 0])"
      ]
     },
     "execution_count": 42,
     "metadata": {},
     "output_type": "execute_result"
    }
   ],
   "source": [
    "data['done']"
   ]
  },
  {
   "cell_type": "code",
   "execution_count": 9,
   "metadata": {},
   "outputs": [],
   "source": [
    "reward=  data['reward']"
   ]
  },
  {
   "cell_type": "code",
   "execution_count": 10,
   "metadata": {},
   "outputs": [
    {
     "name": "stdout",
     "output_type": "stream",
     "text": [
      "(300,)\n"
     ]
    }
   ],
   "source": [
    "print(reward.shape)"
   ]
  },
  {
   "cell_type": "code",
   "execution_count": 14,
   "metadata": {},
   "outputs": [],
   "source": [
    "reward_1 = np.expand_dims(reward, axis = 1)"
   ]
  },
  {
   "cell_type": "code",
   "execution_count": 15,
   "metadata": {},
   "outputs": [],
   "source": [
    "reward_2 = np.expand_dims(reward_1, axis = 2)"
   ]
  },
  {
   "cell_type": "code",
   "execution_count": 16,
   "metadata": {},
   "outputs": [
    {
     "data": {
      "text/plain": [
       "(300, 1, 1)"
      ]
     },
     "execution_count": 16,
     "metadata": {},
     "output_type": "execute_result"
    }
   ],
   "source": [
    "reward_2.shape"
   ]
  },
  {
   "cell_type": "code",
   "execution_count": 18,
   "metadata": {},
   "outputs": [],
   "source": [
    "rew_list = []\n",
    "\n",
    "for i in range(5):\n",
    "    rew_list.append(reward_2)"
   ]
  },
  {
   "cell_type": "code",
   "execution_count": 19,
   "metadata": {},
   "outputs": [],
   "source": [
    "rew_list = np.array(rew_list)\n"
   ]
  },
  {
   "cell_type": "code",
   "execution_count": 20,
   "metadata": {},
   "outputs": [
    {
     "data": {
      "text/plain": [
       "(5, 300, 1, 1)"
      ]
     },
     "execution_count": 20,
     "metadata": {},
     "output_type": "execute_result"
    }
   ],
   "source": [
    "rew_list.shape"
   ]
  },
  {
   "cell_type": "code",
   "execution_count": 31,
   "metadata": {},
   "outputs": [
    {
     "data": {
      "text/plain": [
       "(5, 299, 1, 1)"
      ]
     },
     "execution_count": 31,
     "metadata": {},
     "output_type": "execute_result"
    }
   ],
   "source": [
    "rew_list[:, :-1,:].shape"
   ]
  },
  {
   "cell_type": "code",
   "execution_count": null,
   "metadata": {},
   "outputs": [],
   "source": []
  }
 ],
 "metadata": {
  "kernelspec": {
   "display_name": "Python 3",
   "language": "python",
   "name": "python3"
  },
  "language_info": {
   "codemirror_mode": {
    "name": "ipython",
    "version": 3
   },
   "file_extension": ".py",
   "mimetype": "text/x-python",
   "name": "python",
   "nbconvert_exporter": "python",
   "pygments_lexer": "ipython3",
   "version": "3.6.1"
  }
 },
 "nbformat": 4,
 "nbformat_minor": 2
}
